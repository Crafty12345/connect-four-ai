{
 "cells": [
  {
   "cell_type": "code",
   "execution_count": 19,
   "metadata": {},
   "outputs": [],
   "source": [
    "example_list = list([[0,1,2],[0,1,2],[0,1,2]])"
   ]
  },
  {
   "cell_type": "code",
   "execution_count": 20,
   "metadata": {},
   "outputs": [
    {
     "name": "stdout",
     "output_type": "stream",
     "text": [
      "{0: None, 1: None, 2: None}\n",
      "{0: None, 1: None, 2: None}\n",
      "{0: None, 1: None, 2: None}\n"
     ]
    }
   ],
   "source": [
    "#list_dict = dict.fromkeys(example_list)\n",
    "#rint(True if \"a\" in list_dict else False)\n",
    "# temp_dict = {}\n",
    "# mapped_dict = {(lst[0:1]): tuple}\n",
    "\n",
    "for e in example_list:\n",
    "    print(dict.fromkeys(e))"
   ]
  }
 ],
 "metadata": {
  "kernelspec": {
   "display_name": "Python 3",
   "language": "python",
   "name": "python3"
  },
  "language_info": {
   "codemirror_mode": {
    "name": "ipython",
    "version": 3
   },
   "file_extension": ".py",
   "mimetype": "text/x-python",
   "name": "python",
   "nbconvert_exporter": "python",
   "pygments_lexer": "ipython3",
   "version": "3.10.4"
  },
  "orig_nbformat": 4
 },
 "nbformat": 4,
 "nbformat_minor": 2
}
