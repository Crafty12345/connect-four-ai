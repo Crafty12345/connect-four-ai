{
 "cells": [
  {
   "attachments": {},
   "cell_type": "markdown",
   "metadata": {},
   "source": [
    "### TODO: Because dictionaries are VERY fast in comparison to lists, convert contents of data/combinations to dict, then write to seperate file (so that way, there is a backup available)"
   ]
  },
  {
   "cell_type": "code",
   "execution_count": 71,
   "metadata": {},
   "outputs": [],
   "source": [
    "import tqdm"
   ]
  },
  {
   "cell_type": "code",
   "execution_count": 69,
   "metadata": {},
   "outputs": [],
   "source": [
    "with open(\"data/possible_combinations\",\"r\") as f:\n",
    "    data_list = eval(f.read())"
   ]
  },
  {
   "cell_type": "code",
   "execution_count": 70,
   "metadata": {},
   "outputs": [
    {
     "name": "stdout",
     "output_type": "stream",
     "text": [
      "{0: {0: [0, 0, 0, 0, 0, 0, 0], 1: [0, 0, 0, 0, 0, 0, 0], 2: [0, 0, 0, 0, 0, 0, 0], 3: [0, 0, 0, 0, 0, 0, 0], 4: [0, 0, 0, 0, 0, 0, 0], 5: [1, 2, 0, 0, 0, 0, 0]}}\n"
     ]
    }
   ],
   "source": [
    "data_dict = {k: v for k,v in enumerate(data_list[0])}\n",
    "\n",
    "_dict = {}\n",
    "\n",
    "_dict[0] = data_dict\n",
    "\n",
    "print(_dict)"
   ]
  }
 ],
 "metadata": {
  "kernelspec": {
   "display_name": "Python 3",
   "language": "python",
   "name": "python3"
  },
  "language_info": {
   "codemirror_mode": {
    "name": "ipython",
    "version": 3
   },
   "file_extension": ".py",
   "mimetype": "text/x-python",
   "name": "python",
   "nbconvert_exporter": "python",
   "pygments_lexer": "ipython3",
   "version": "3.10.4"
  },
  "orig_nbformat": 4
 },
 "nbformat": 4,
 "nbformat_minor": 2
}
